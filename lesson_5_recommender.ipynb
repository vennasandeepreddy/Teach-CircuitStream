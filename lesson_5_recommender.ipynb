{
  "nbformat": 4,
  "nbformat_minor": 0,
  "metadata": {
    "colab": {
      "provenance": [],
      "gpuType": "T4",
      "authorship_tag": "ABX9TyN/7N9LHGUfm61acm7ftUnz",
      "include_colab_link": true
    },
    "kernelspec": {
      "name": "python3",
      "display_name": "Python 3"
    },
    "language_info": {
      "name": "python"
    },
    "accelerator": "GPU"
  },
  "cells": [
    {
      "cell_type": "markdown",
      "metadata": {
        "id": "view-in-github",
        "colab_type": "text"
      },
      "source": [
        "<a href=\"https://colab.research.google.com/github/vennasandeepreddy/Teach-CircuitStream/blob/main/lesson_5_recommender.ipynb\" target=\"_parent\"><img src=\"https://colab.research.google.com/assets/colab-badge.svg\" alt=\"Open In Colab\"/></a>"
      ]
    },
    {
      "cell_type": "markdown",
      "source": [
        "### Installing"
      ],
      "metadata": {
        "id": "kvrym3nFa_q5"
      }
    },
    {
      "cell_type": "code",
      "source": [
        "! pip install scikit-surprise"
      ],
      "metadata": {
        "colab": {
          "base_uri": "https://localhost:8080/"
        },
        "id": "v6W9vdcq-tTS",
        "outputId": "8b9a79c0-a2ea-4a89-8b47-d657a7a4609e",
        "collapsed": true
      },
      "execution_count": null,
      "outputs": [
        {
          "output_type": "stream",
          "name": "stdout",
          "text": [
            "Collecting scikit-surprise\n",
            "  Downloading scikit_surprise-1.1.4.tar.gz (154 kB)\n",
            "\u001b[?25l     \u001b[90m━━━━━━━━━━━━━━━━━━━━━━━━━━━━━━━━━━━━━━━━\u001b[0m \u001b[32m0.0/154.4 kB\u001b[0m \u001b[31m?\u001b[0m eta \u001b[36m-:--:--\u001b[0m\r\u001b[2K     \u001b[91m━━━━━━━━━━━━━━━━━━━━━━━━━━━━━━━━━━━━━━\u001b[0m\u001b[91m╸\u001b[0m \u001b[32m153.6/154.4 kB\u001b[0m \u001b[31m4.5 MB/s\u001b[0m eta \u001b[36m0:00:01\u001b[0m\r\u001b[2K     \u001b[90m━━━━━━━━━━━━━━━━━━━━━━━━━━━━━━━━━━━━━━━\u001b[0m \u001b[32m154.4/154.4 kB\u001b[0m \u001b[31m3.5 MB/s\u001b[0m eta \u001b[36m0:00:00\u001b[0m\n",
            "\u001b[?25h  Installing build dependencies ... \u001b[?25l\u001b[?25hdone\n",
            "  Getting requirements to build wheel ... \u001b[?25l\u001b[?25hdone\n",
            "  Preparing metadata (pyproject.toml) ... \u001b[?25l\u001b[?25hdone\n",
            "Requirement already satisfied: joblib>=1.2.0 in /usr/local/lib/python3.12/dist-packages (from scikit-surprise) (1.5.2)\n",
            "Requirement already satisfied: numpy>=1.19.5 in /usr/local/lib/python3.12/dist-packages (from scikit-surprise) (2.0.2)\n",
            "Requirement already satisfied: scipy>=1.6.0 in /usr/local/lib/python3.12/dist-packages (from scikit-surprise) (1.16.1)\n",
            "Building wheels for collected packages: scikit-surprise\n",
            "  Building wheel for scikit-surprise (pyproject.toml) ... \u001b[?25l\u001b[?25hdone\n",
            "  Created wheel for scikit-surprise: filename=scikit_surprise-1.1.4-cp312-cp312-linux_x86_64.whl size=2610406 sha256=cc96f9407c4762d7685bc4881646899f4b2a2eb6b8bbe88cdc3dc829fd6217e7\n",
            "  Stored in directory: /root/.cache/pip/wheels/75/fa/bc/739bc2cb1fbaab6061854e6cfbb81a0ae52c92a502a7fa454b\n",
            "Successfully built scikit-surprise\n",
            "Installing collected packages: scikit-surprise\n",
            "Successfully installed scikit-surprise-1.1.4\n"
          ]
        }
      ]
    },
    {
      "cell_type": "markdown",
      "source": [],
      "metadata": {
        "id": "tiSk0CBDZL4s"
      }
    },
    {
      "cell_type": "code",
      "source": [
        "! pip install numpy==1.26.4"
      ],
      "metadata": {
        "colab": {
          "base_uri": "https://localhost:8080/",
          "height": 391
        },
        "id": "ytldU9Gqx_Jy",
        "outputId": "5376c644-7b1c-4343-b891-d56a03c4500f"
      },
      "execution_count": null,
      "outputs": [
        {
          "output_type": "stream",
          "name": "stdout",
          "text": [
            "Collecting numpy==1.26.4\n",
            "  Downloading numpy-1.26.4-cp312-cp312-manylinux_2_17_x86_64.manylinux2014_x86_64.whl.metadata (61 kB)\n",
            "\u001b[?25l     \u001b[90m━━━━━━━━━━━━━━━━━━━━━━━━━━━━━━━━━━━━━━━━\u001b[0m \u001b[32m0.0/61.0 kB\u001b[0m \u001b[31m?\u001b[0m eta \u001b[36m-:--:--\u001b[0m\r\u001b[2K     \u001b[90m━━━━━━━━━━━━━━━━━━━━━━━━━━━━━━━━━━━━━━━━\u001b[0m \u001b[32m61.0/61.0 kB\u001b[0m \u001b[31m2.5 MB/s\u001b[0m eta \u001b[36m0:00:00\u001b[0m\n",
            "\u001b[?25hDownloading numpy-1.26.4-cp312-cp312-manylinux_2_17_x86_64.manylinux2014_x86_64.whl (18.0 MB)\n",
            "\u001b[2K   \u001b[90m━━━━━━━━━━━━━━━━━━━━━━━━━━━━━━━━━━━━━━━━\u001b[0m \u001b[32m18.0/18.0 MB\u001b[0m \u001b[31m74.8 MB/s\u001b[0m eta \u001b[36m0:00:00\u001b[0m\n",
            "\u001b[?25hInstalling collected packages: numpy\n",
            "  Attempting uninstall: numpy\n",
            "    Found existing installation: numpy 2.0.2\n",
            "    Uninstalling numpy-2.0.2:\n",
            "      Successfully uninstalled numpy-2.0.2\n",
            "\u001b[31mERROR: pip's dependency resolver does not currently take into account all the packages that are installed. This behaviour is the source of the following dependency conflicts.\n",
            "thinc 8.3.6 requires numpy<3.0.0,>=2.0.0, but you have numpy 1.26.4 which is incompatible.\n",
            "opencv-python-headless 4.12.0.88 requires numpy<2.3.0,>=2; python_version >= \"3.9\", but you have numpy 1.26.4 which is incompatible.\n",
            "opencv-contrib-python 4.12.0.88 requires numpy<2.3.0,>=2; python_version >= \"3.9\", but you have numpy 1.26.4 which is incompatible.\n",
            "opencv-python 4.12.0.88 requires numpy<2.3.0,>=2; python_version >= \"3.9\", but you have numpy 1.26.4 which is incompatible.\u001b[0m\u001b[31m\n",
            "\u001b[0mSuccessfully installed numpy-1.26.4\n"
          ]
        },
        {
          "output_type": "display_data",
          "data": {
            "application/vnd.colab-display-data+json": {
              "pip_warning": {
                "packages": [
                  "numpy"
                ]
              },
              "id": "0617c66a7772483da861a2e290f28cc1"
            }
          },
          "metadata": {}
        }
      ]
    },
    {
      "cell_type": "code",
      "source": [],
      "metadata": {
        "id": "y1nr4-gUwVQV"
      },
      "execution_count": null,
      "outputs": []
    },
    {
      "cell_type": "code",
      "source": [
        "from surprise import Dataset\n",
        "from surprise import SVD\n",
        "from surprise.model_selection import train_test_split\n",
        "from surprise import accuracy"
      ],
      "metadata": {
        "id": "Y9BCsSi_wVKF"
      },
      "execution_count": null,
      "outputs": []
    },
    {
      "cell_type": "markdown",
      "source": [
        "### Load dataset"
      ],
      "metadata": {
        "id": "wOVxQe5tazdq"
      }
    },
    {
      "cell_type": "code",
      "source": [
        "print(\"--- Step 1: Load the Built-in MovieLens 100k Dataset ---\")\n",
        "data = Dataset.load_builtin(\"ml-100k\")\n",
        "print(\"Dataset loaded successfully.\")"
      ],
      "metadata": {
        "colab": {
          "base_uri": "https://localhost:8080/"
        },
        "id": "scIPZOiAwWA9",
        "outputId": "6f1f34b4-204c-4e2b-d858-804b2be33a25"
      },
      "execution_count": null,
      "outputs": [
        {
          "output_type": "stream",
          "name": "stdout",
          "text": [
            "--- Step 1: Load the Built-in MovieLens 100k Dataset ---\n",
            "Dataset ml-100k could not be found. Do you want to download it? [Y/n] Y\n",
            "Trying to download dataset from https://files.grouplens.org/datasets/movielens/ml-100k.zip...\n",
            "Done! Dataset ml-100k has been saved to /root/.surprise_data/ml-100k\n",
            "Dataset loaded successfully.\n"
          ]
        }
      ]
    },
    {
      "cell_type": "markdown",
      "source": [
        "### ML Model training"
      ],
      "metadata": {
        "id": "aqhQ_-JPa2l5"
      }
    },
    {
      "cell_type": "code",
      "source": [
        "print(\"\\n--- Step 2: Split Data into Training and Testing Sets ---\")\n",
        "trainset, testset = train_test_split(data, test_size=0.25, random_state=42)\n",
        "print(f\"Number of users: {trainset.n_users}\")\n",
        "print(f\"Number of movies: {trainset.n_items}\")\n",
        "print(f\"Number of ratings in training set: {trainset.n_ratings}\")"
      ],
      "metadata": {
        "colab": {
          "base_uri": "https://localhost:8080/"
        },
        "id": "RNmop5D0xnf0",
        "outputId": "eaffacdb-82fe-4225-e1cf-decdc647d2a9"
      },
      "execution_count": null,
      "outputs": [
        {
          "output_type": "stream",
          "name": "stdout",
          "text": [
            "\n",
            "--- Step 2: Split Data into Training and Testing Sets ---\n",
            "Number of users: 943\n",
            "Number of movies: 1644\n",
            "Number of ratings in training set: 75000\n"
          ]
        }
      ]
    },
    {
      "cell_type": "code",
      "source": [
        "print(\"\\n--- Step 3: Create and Train the SVD Model ---\")\n",
        "algo = SVD(random_state=42)\n",
        "print(\"Training the model... (This might take a moment)\")\n",
        "algo.fit(trainset)\n",
        "print(\"Training complete.\")"
      ],
      "metadata": {
        "colab": {
          "base_uri": "https://localhost:8080/"
        },
        "id": "k3-sRv4wxtpc",
        "outputId": "4bf6c091-1d82-4d21-9b6b-a908231ca6e7"
      },
      "execution_count": null,
      "outputs": [
        {
          "output_type": "stream",
          "name": "stdout",
          "text": [
            "\n",
            "--- Step 3: Create and Train the SVD Model ---\n",
            "Training the model... (This might take a moment)\n",
            "Training complete.\n"
          ]
        }
      ]
    },
    {
      "cell_type": "markdown",
      "source": [
        "### Performance calculation"
      ],
      "metadata": {
        "id": "DpoGDi9ma5Yq"
      }
    },
    {
      "cell_type": "code",
      "source": [
        "print(\"\\n--- Step 4: Evaluate the Model's Performance ---\")\n",
        "predictions = algo.test(testset)\n",
        "rmse = accuracy.rmse(predictions)\n",
        "print(f\"Model Accuracy (RMSE): {rmse}\")"
      ],
      "metadata": {
        "colab": {
          "base_uri": "https://localhost:8080/"
        },
        "id": "vwM8otMGygQi",
        "outputId": "8e684f04-4fbf-4449-bd3a-4f92cedb1516"
      },
      "execution_count": null,
      "outputs": [
        {
          "output_type": "stream",
          "name": "stdout",
          "text": [
            "\n",
            "--- Step 4: Evaluate the Model's Performance ---\n",
            "RMSE: 0.9396\n",
            "Model Accuracy (RMSE): 0.9395567173787085\n"
          ]
        }
      ]
    },
    {
      "cell_type": "markdown",
      "source": [
        "### Predictiosn"
      ],
      "metadata": {
        "id": "ILCBEMQaa8Sz"
      }
    },
    {
      "cell_type": "code",
      "source": [
        "print(\"\\n--- Step 5: Make a Prediction! ---\")\n",
        "# This is the fun part: let's predict a rating for a specific user and movie.\n",
        "# The UserIDs and MovieIDs in this dataset are strings.\n",
        "user_id = '196'\n",
        "# MovieID '242' is 'The Godfather'. User 196 rated it a 3 in the dataset.\n",
        "movie_id_seen = '242'\n",
        "\n",
        "# Let's see how close the model's prediction is to the actual rating.\n",
        "print(\"Predicting a rating for a movie the user has already seen:\")\n",
        "prediction = algo.predict(uid=user_id, iid=movie_id_seen, verbose=True)\n",
        "print(f\"Model's prediction: {prediction.est:.2f}\")\n"
      ],
      "metadata": {
        "id": "BGABPFV9ykJM",
        "outputId": "e85c65ec-b92f-4806-c9b9-b5ff10ac4294",
        "colab": {
          "base_uri": "https://localhost:8080/"
        }
      },
      "execution_count": null,
      "outputs": [
        {
          "output_type": "stream",
          "name": "stdout",
          "text": [
            "\n",
            "--- Step 5: Make a Prediction! ---\n",
            "Predicting a rating for a movie the user has already seen:\n",
            "user: 196        item: 242        r_ui = None   est = 3.78   {'was_impossible': False}\n",
            "Model's prediction: 3.78\n"
          ]
        }
      ]
    },
    {
      "cell_type": "code",
      "source": [
        "# Now for the real use case: recommend a movie the user HASN'T seen.\n",
        "# MovieID '1' is 'Toy Story'. User 196 has not rated this movie.\n",
        "movie_id_new = '1'\n",
        "print(\"\\nPredicting a rating for a new movie to recommend:\")\n",
        "prediction_new = algo.predict(uid=user_id, iid=movie_id_new, verbose=True)\n",
        "\n",
        "print(f\"\\nModel's prediction for a new movie is: {prediction_new.est:.2f}\")\n",
        "print(\"Based on this high predicted rating, we could recommend 'Toy Story' to this user!\")"
      ],
      "metadata": {
        "id": "NqGo23ymynVh",
        "outputId": "1f784af4-7b2d-4133-f1a6-e3f34fb13028",
        "colab": {
          "base_uri": "https://localhost:8080/"
        }
      },
      "execution_count": null,
      "outputs": [
        {
          "output_type": "stream",
          "name": "stdout",
          "text": [
            "\n",
            "Predicting a rating for a new movie to recommend:\n",
            "user: 196        item: 1          r_ui = None   est = 3.82   {'was_impossible': False}\n",
            "\n",
            "Model's prediction for a new movie is: 3.82\n",
            "Based on this high predicted rating, we could recommend 'Toy Story' to this user!\n"
          ]
        }
      ]
    },
    {
      "cell_type": "code",
      "source": [],
      "metadata": {
        "id": "TQSpGMR5yLyy"
      },
      "execution_count": null,
      "outputs": []
    }
  ]
}